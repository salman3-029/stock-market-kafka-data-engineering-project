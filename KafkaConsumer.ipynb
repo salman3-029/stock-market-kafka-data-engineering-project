{
 "cells": [
  {
   "cell_type": "code",
   "execution_count": null,
   "id": "b6675043",
   "metadata": {},
   "outputs": [],
   "source": [
    "from kafka import KafkaConsumer\n",
    "from time import sleep\n",
    "from json import dumps,loads\n",
    "import json\n",
    "from io import StringIO"
   ]
  },
  {
   "cell_type": "code",
   "execution_count": null,
   "id": "9eeff3ef",
   "metadata": {},
   "outputs": [],
   "source": [
    "consumer = KafkaConsumer(\n",
    "    'demo_test',\n",
    "     bootstrap_servers=[':9092'], #add your IP here\n",
    "    value_deserializer=lambda x: loads(x.decode('utf-8')))"
   ]
  },
  {
   "cell_type": "code",
   "execution_count": null,
   "id": "eda5a608",
   "metadata": {},
   "outputs": [],
   "source": [
    "# for c in consumer:\n",
    "#     print(c.value)"
   ]
  },
  {
   "cell_type": "code",
   "execution_count": null,
   "id": "8d60dc6c",
   "metadata": {},
   "outputs": [],
   "source": [
    "s3_resource = boto3.resource('s3',aws_access_key_id=access_key, \n
    aws_secret_access_key=secret,)"
   ]
  },
  {
   "cell_type": "code",
   "execution_count": null,
   "id": "0f135e81",
   "metadata": {},
   "outputs": [],
   "source": [
    "for count, i in enumerate(consumer): \n
    csv_buffer = StringIO() \n
    csv_buffer.write(str(i.value)) \n
    filename = "stock_market_{}.json".format(count) \n
    s3_resource.Object("kafka-stock-market-data-salman",filename).put(Body=csv_buffer.getvalue())"
   ]
  },
  {
   "cell_type": "code",
   "execution_count": null,
   "id": "7b811cb6",
   "metadata": {},
   "outputs": [],
   "source": []
  }
 ],
 "metadata": {
  "kernelspec": {
   "display_name": "Python 3 (ipykernel)",
   "language": "python",
   "name": "python3"
  },
  "language_info": {
   "codemirror_mode": {
    "name": "ipython",
    "version": 3
   },
   "file_extension": ".py",
   "mimetype": "text/x-python",
   "name": "python",
   "nbconvert_exporter": "python",
   "pygments_lexer": "ipython3",
   "version": "3.10.0"
  }
 },
 "nbformat": 4,
 "nbformat_minor": 5
}
